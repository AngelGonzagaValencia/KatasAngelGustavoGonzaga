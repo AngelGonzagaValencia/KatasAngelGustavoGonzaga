{
 "cells": [
  {
   "cell_type": "markdown",
   "metadata": {},
   "source": [
    "Realizando ejercicios  :)\n"
   ]
  },
  {
   "cell_type": "code",
   "execution_count": 1,
   "metadata": {},
   "outputs": [],
   "source": [
    "# ejemplo propio para la creacion de claraso;!!!!\n",
    "titulo = 'Creando clarasol para una porcion de 5 litros de cloro'\n",
    "\n",
    "hipoclorito = 1 # litro de hipo\n",
    "agua = 4 # litros de agua\n"
   ]
  },
  {
   "cell_type": "code",
   "execution_count": 2,
   "metadata": {},
   "outputs": [
    {
     "name": "stdout",
     "output_type": "stream",
     "text": [
      "5\n"
     ]
    }
   ],
   "source": [
    "#se realiza la mezcla\n",
    "\n",
    "cantidad_de_cloro = hipoclorito + agua\n",
    "print(cantidad_de_cloro)"
   ]
  },
  {
   "cell_type": "code",
   "execution_count": 9,
   "metadata": {},
   "outputs": [
    {
     "name": "stdout",
     "output_type": "stream",
     "text": [
      "la cantidad de cloro es:5litros\n"
     ]
    }
   ],
   "source": [
    "cantidad_de_cloro = hipoclorito + agua\n",
    "print('la cantidad de cloro es:' +str( cantidad_de_cloro)+ 'litros')"
   ]
  },
  {
   "cell_type": "code",
   "execution_count": 11,
   "metadata": {},
   "outputs": [
    {
     "name": "stdout",
     "output_type": "stream",
     "text": [
      "lee nuevamente las instrucciones\n"
     ]
    }
   ],
   "source": [
    "if (hipoclorito==5):\n",
    "\n",
    "    print('La cantidad es mayor a lo establecido')\n",
    "\n",
    "else:\n",
    "\n",
    "        print('lee nuevamente las instrucciones')"
   ]
  },
  {
   "cell_type": "markdown",
   "metadata": {},
   "source": [
    "Resolviendo el primer problema...\n",
    "Para este ejercicio, escribirás una lógica condicional que imprima una advertencia si un asteroide se acerca a la Tierra demasiado rápido. La velocidad del asteroide varía dependiendo de lo cerca que esté del sol, y cualquier velocidad superior a 25 kilómetros por segundo (km/s) merece una advertencia.\n",
    "\n",
    "Un asteroide se acerca, y viaja a una velocidad de 49 km/s."
   ]
  },
  {
   "cell_type": "code",
   "execution_count": 12,
   "metadata": {},
   "outputs": [
    {
     "name": "stdout",
     "output_type": "stream",
     "text": [
      "ALERTA ALERTA ASTEROIDE ACERCANDODE A LA TIERRA\n"
     ]
    }
   ],
   "source": [
    "#Datos a considerar\n",
    "velocidad_limite = 25 #km\n",
    "asteroide = 49 #km\n",
    "\n",
    "if (asteroide < 25):\n",
    "\n",
    "    print('SIN ADVERTENCIAS')\n",
    "\n",
    "elif (asteroide >25):\n",
    "\n",
    "   print('ALERTA ALERTA ASTEROIDE ACERCANDODE A LA TIERRA')\n",
    "\n"
   ]
  },
  {
   "cell_type": "markdown",
   "metadata": {},
   "source": [
    "RESOLVIENDO EJERCICIO 2\n",
    "Si un asteroide entra en la atmósfera de la Tierra a una velocidad mayor o igual a 20 km/s, a veces produce un \n",
    "rayo de luz que se puede ver desde la Tierra. Escribe la lógica condicional que usa declaraciones if, else, y elif\n",
    "para alertar a las personas de todo el mundo que deben buscar un asteroide en el cielo. ¡Hay uno que se dirige a la tierra ahora a una velocidad de 19 km/s!"
   ]
  },
  {
   "cell_type": "code",
   "execution_count": 14,
   "metadata": {},
   "outputs": [
    {
     "name": "stdout",
     "output_type": "stream",
     "text": [
      "No habra fenomeno\n",
      "El ateroide que se dirigue a la tierra no supera la velocidad para provocar el fenomeno de luz\n"
     ]
    }
   ],
   "source": [
    "#Datos a considerar\n",
    "efecto = 20 #km produce luces..\n",
    "asteroide = 19 #km que se diriegue a la TIERRA\n",
    "\n",
    "if (asteroide >= 20):\n",
    "\n",
    "    print('Se espera un fenomeno de rayo de luz')\n",
    "\n",
    "elif (asteroide <=20):\n",
    "\n",
    "   print('No habra fenomeno')\n",
    "else:\n",
    "\n",
    "     print('se necesita monitoreo')\n",
    "\n",
    "print('El ateroide que se dirigue a la tierra no supera la velocidad para provocar el fenomeno de luz')"
   ]
  },
  {
   "cell_type": "markdown",
   "metadata": {},
   "source": [
    "RESOLVIENDO EJERCICIO 3\n",
    "\n",
    "La velocidad del asteroide varía en función de lo cerca que esté del sol, y cualquier velocidad superior a 25 kilómetros por segundo (km/s) merece una advertencia.\n",
    "Si un asteroide entra en la atmósfera de la Tierra a una velocidad mayor o igual a 20 km/s, a veces produce un rayo de luz que se puede ver desde la Tierra.\n",
    "Usando toda esta información, escribe un programa que emita la advertencia o información correcta a la gente de la Tierra, según la velocidad y el tamaño de un asteroide. Utiliza instrucciones if, else, y elif, así como los operadores and y or."
   ]
  },
  {
   "cell_type": "code",
   "execution_count": 15,
   "metadata": {},
   "outputs": [
    {
     "name": "stdout",
     "output_type": "stream",
     "text": [
      "ADVERTENCIA DE IMPACTO\n"
     ]
    }
   ],
   "source": [
    "\n",
    "\n",
    "if (asteroide >= 20 and asteroide <25):\n",
    "\n",
    "    print('Se espera un fenomeno de luz pero no provoca amenazas de impacto')\n",
    "\n",
    "elif (asteroide <=20 or asteroide >25):\n",
    "\n",
    "   print('ADVERTENCIA DE IMPACTO')\n",
    "else:\n",
    "\n",
    "     print('se necesita monitoreo')"
   ]
  }
 ],
 "metadata": {
  "interpreter": {
   "hash": "6a421a35e1935a2dbd9f675d36c6896df79583490ca96b715690e7e44f979694"
  },
  "kernelspec": {
   "display_name": "Python 3.10.2 64-bit",
   "language": "python",
   "name": "python3"
  },
  "language_info": {
   "codemirror_mode": {
    "name": "ipython",
    "version": 3
   },
   "file_extension": ".py",
   "mimetype": "text/x-python",
   "name": "python",
   "nbconvert_exporter": "python",
   "pygments_lexer": "ipython3",
   "version": "3.10.2"
  },
  "orig_nbformat": 4
 },
 "nbformat": 4,
 "nbformat_minor": 2
}
