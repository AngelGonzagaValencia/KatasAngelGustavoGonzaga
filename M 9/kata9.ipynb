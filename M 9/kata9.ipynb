{
 "cells": [
  {
   "cell_type": "markdown",
   "metadata": {},
   "source": [
    "EJERCICIO 1 REFERNETE A LA KATA 9"
   ]
  },
  {
   "cell_type": "code",
   "execution_count": 7,
   "metadata": {},
   "outputs": [],
   "source": [
    "t1=10\n",
    "t2=20\n",
    "t3=30\n",
    "\n",
    "\n",
    "def tanques(t1, t2, t3):\n",
    "     suma = (t1 + t2 + t3)\n",
    "     promedio = suma / 3\n",
    "\n",
    "     print (promedio)\n",
    "     "
   ]
  },
  {
   "cell_type": "code",
   "execution_count": 8,
   "metadata": {},
   "outputs": [],
   "source": [
    "def tanques1(main_tank, external_tank, hydrogen_tank):\n",
    "    total_average = (main_tank + external_tank + hydrogen_tank) / 3\n",
    "    return f\"\"\"Fuel Report:\n",
    "    Total Average: {total_average}%\n",
    "    Main tank: {main_tank}%\n",
    "    External tank: {external_tank}%\n",
    "    Hydrogen tank: {hydrogen_tank}% \n",
    "    \"\"\""
   ]
  },
  {
   "cell_type": "code",
   "execution_count": 9,
   "metadata": {},
   "outputs": [
    {
     "name": "stdout",
     "output_type": "stream",
     "text": [
      "78.33333333333333\n",
      "None\n"
     ]
    }
   ],
   "source": [
    "print(tanques(80, 70, 85))"
   ]
  },
  {
   "cell_type": "code",
   "execution_count": 10,
   "metadata": {},
   "outputs": [
    {
     "data": {
      "text/plain": [
       "82.0"
      ]
     },
     "execution_count": 10,
     "metadata": {},
     "output_type": "execute_result"
    }
   ],
   "source": [
    "def tanques2(values):\n",
    "    total = sum(values)\n",
    "    numero = len(values)\n",
    "    return total / numero\n",
    "\n",
    "\n",
    "tanques2([80, 85, 81]) "
   ]
  },
  {
   "cell_type": "markdown",
   "metadata": {},
   "source": [
    "EJERCICIO 2"
   ]
  },
  {
   "cell_type": "code",
   "execution_count": 12,
   "metadata": {},
   "outputs": [
    {
     "name": "stdout",
     "output_type": "stream",
     "text": [
      "\n",
      "    Mision 707\n",
      "    Total vuelo: 65 \n",
      "    Total : 500000 \n",
      "    \n"
     ]
    }
   ],
   "source": [
    "\n",
    "\n",
    "def reporte(prelanzamiento, vuelo, destino, tanqueE, tanqueI):\n",
    "    return f\"\"\"\n",
    "    Mision {destino}\n",
    "    Total vuelo: {prelanzamiento + vuelo} \n",
    "    Total : {tanqueE + tanqueI} \n",
    "    \"\"\"\n",
    "\n",
    "print(reporte(14, 51, \"707\", 200000, 300000))"
   ]
  }
 ],
 "metadata": {
  "interpreter": {
   "hash": "c29c300cc3a1195cf339022edf3305ec21df4b32963def5c7dc862dc0fb02138"
  },
  "kernelspec": {
   "display_name": "Python 3.9.10 64-bit (windows store)",
   "language": "python",
   "name": "python3"
  },
  "language_info": {
   "codemirror_mode": {
    "name": "ipython",
    "version": 3
   },
   "file_extension": ".py",
   "mimetype": "text/x-python",
   "name": "python",
   "nbconvert_exporter": "python",
   "pygments_lexer": "ipython3",
   "version": "3.9.10"
  },
  "orig_nbformat": 4
 },
 "nbformat": 4,
 "nbformat_minor": 2
}
