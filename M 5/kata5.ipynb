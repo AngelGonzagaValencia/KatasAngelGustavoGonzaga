{
 "cells": [
  {
   "cell_type": "markdown",
   "metadata": {},
   "source": [
    "EJERCICIO 1 CORRESPONDIENTE CON LA KATA 5"
   ]
  },
  {
   "cell_type": "code",
   "execution_count": 1,
   "metadata": {},
   "outputs": [],
   "source": [
    "#CALCULAR LA DISTANCIA ENTRE PLANETAS.\n",
    "tierra =149597870 #km\n",
    "jupiter =778547200 #km\n",
    "\n"
   ]
  },
  {
   "cell_type": "code",
   "execution_count": 2,
   "metadata": {},
   "outputs": [
    {
     "name": "stdout",
     "output_type": "stream",
     "text": [
      "628949330\n"
     ]
    }
   ],
   "source": [
    "#realizando el calculo\n",
    "resultado = jupiter - tierra\n",
    "print(resultado)"
   ]
  },
  {
   "cell_type": "code",
   "execution_count": 6,
   "metadata": {},
   "outputs": [
    {
     "name": "stdout",
     "output_type": "stream",
     "text": [
      "El resultado es millas es:389948584.6\n"
     ]
    }
   ],
   "source": [
    "#convertir a millas\n",
    "millas = resultado * 0.62\n",
    "print('El resultado es millas es:'+ str(millas))"
   ]
  },
  {
   "cell_type": "markdown",
   "metadata": {},
   "source": [
    "EJERCICIO 2 KATA 5\n"
   ]
  },
  {
   "cell_type": "code",
   "execution_count": 9,
   "metadata": {},
   "outputs": [],
   "source": [
    "#\n",
    "sol = 10000\n",
    "mercurio = input('ingrese distancia para mercurio')\n",
    "marte = input('ingrese distancia para marte')\n"
   ]
  },
  {
   "cell_type": "code",
   "execution_count": 11,
   "metadata": {},
   "outputs": [
    {
     "name": "stdout",
     "output_type": "stream",
     "text": [
      "500\n",
      "1000\n"
     ]
    }
   ],
   "source": [
    "# convertir cadenas\n",
    "mercurio = int(mercurio)\n",
    "marte = int(marte)\n",
    "print(mercurio)\n",
    "print(marte)"
   ]
  },
  {
   "cell_type": "code",
   "execution_count": 15,
   "metadata": {},
   "outputs": [
    {
     "name": "stdout",
     "output_type": "stream",
     "text": [
      "500\n"
     ]
    }
   ],
   "source": [
    "#realizar calculo\n",
    "\n",
    "distancia = mercurio - marte\n",
    "\n",
    "\n",
    "# valor absoluto\n",
    "print (abs(distancia))"
   ]
  },
  {
   "cell_type": "code",
   "execution_count": 17,
   "metadata": {},
   "outputs": [
    {
     "name": "stdout",
     "output_type": "stream",
     "text": [
      "310.5\n"
     ]
    }
   ],
   "source": [
    "# convertir de km a millas\n",
    "final = distancia * 0.621\n",
    "print (abs(final))"
   ]
  }
 ],
 "metadata": {
  "interpreter": {
   "hash": "c29c300cc3a1195cf339022edf3305ec21df4b32963def5c7dc862dc0fb02138"
  },
  "kernelspec": {
   "display_name": "Python 3.9.10 64-bit (windows store)",
   "language": "python",
   "name": "python3"
  },
  "language_info": {
   "codemirror_mode": {
    "name": "ipython",
    "version": 3
   },
   "file_extension": ".py",
   "mimetype": "text/x-python",
   "name": "python",
   "nbconvert_exporter": "python",
   "pygments_lexer": "ipython3",
   "version": "3.9.10"
  },
  "orig_nbformat": 4
 },
 "nbformat": 4,
 "nbformat_minor": 2
}
